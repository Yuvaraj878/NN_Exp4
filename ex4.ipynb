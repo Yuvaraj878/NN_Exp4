{
 "cells": [
  {
   "cell_type": "code",
   "execution_count": 3,
   "metadata": {},
   "outputs": [
    {
     "name": "stdout",
     "output_type": "stream",
     "text": [
      "   SepalLength  SepalWidth  PetalLength  PetalWidth      Species\n",
      "0          5.1         3.5          1.4         0.2  Iris-setosa\n",
      "1          4.9         3.0          1.4         0.2  Iris-setosa\n",
      "2          4.7         3.2          1.3         0.2  Iris-setosa\n",
      "3          4.6         3.1          1.5         0.2  Iris-setosa\n",
      "4          5.0         3.6          1.4         0.2  Iris-setosa\n",
      "[[18  0  0]\n",
      " [ 0  7  3]\n",
      " [ 0  1  9]]\n",
      "                 precision    recall  f1-score   support\n",
      "\n",
      "    Iris-setosa       1.00      1.00      1.00        18\n",
      "Iris-versicolor       0.88      0.70      0.78        10\n",
      " Iris-virginica       0.75      0.90      0.82        10\n",
      "\n",
      "       accuracy                           0.89        38\n",
      "      macro avg       0.88      0.87      0.87        38\n",
      "   weighted avg       0.90      0.89      0.89        38\n",
      "\n"
     ]
    }
   ],
   "source": [
    "import pandas as pd\n",
    "from sklearn.model_selection import train_test_split\n",
    "from sklearn.preprocessing import StandardScaler\n",
    "from sklearn.neural_network import MLPClassifier\n",
    "from sklearn.metrics import classification_report\n",
    "from sklearn.metrics import confusion_matrix\n",
    "url = 'https://archive.ics.uci.edu/ml/machine-learning-databases/iris/iris.data'\n",
    "arr = ['SepalLength', 'SepalWidth', 'PetalLength', 'PetalWidth', 'Species']\n",
    "df = pd.read_csv(url, names=arr)\n",
    "print(df.head())\n",
    "a = df.iloc[:, 0:4]\n",
    "b = df.select_dtypes(include=[object])\n",
    "b = df.iloc[:,4:5]\n",
    "training_a, testing_a, training_b, testing_b = train_test_split(a, b, test_size = 0.25)\n",
    "myscaler = StandardScaler()\n",
    "myscaler.fit(training_a)\n",
    "training_a = myscaler.transform(training_a)\n",
    "testing_a = myscaler.transform(testing_a)\n",
    "m1 = MLPClassifier(hidden_layer_sizes=(12, 13, 14), activation='relu', solver='adam', max_iter=2500)\n",
    "m1.fit(training_a, training_b.values.ravel())\n",
    "predicted_values = m1.predict(testing_a)\n",
    "print(confusion_matrix(testing_b,predicted_values))\n",
    "print(classification_report(testing_b,predicted_values))"
   ]
  },
  {
   "cell_type": "code",
   "execution_count": 4,
   "metadata": {},
   "outputs": [
    {
     "name": "stdout",
     "output_type": "stream",
     "text": [
      "   SepalLength  SepalWidth  PetalLength  PetalWidth      Species\n",
      "0          5.1         3.5          1.4         0.2  Iris-setosa\n",
      "1          4.9         3.0          1.4         0.2  Iris-setosa\n",
      "2          4.7         3.2          1.3         0.2  Iris-setosa\n",
      "3          4.6         3.1          1.5         0.2  Iris-setosa\n",
      "4          5.0         3.6          1.4         0.2  Iris-setosa\n",
      "[[17  0  0]\n",
      " [ 0 12  1]\n",
      " [ 0  0  8]]\n",
      "                 precision    recall  f1-score   support\n",
      "\n",
      "    Iris-setosa       1.00      1.00      1.00        17\n",
      "Iris-versicolor       1.00      0.92      0.96        13\n",
      " Iris-virginica       0.89      1.00      0.94         8\n",
      "\n",
      "       accuracy                           0.97        38\n",
      "      macro avg       0.96      0.97      0.97        38\n",
      "   weighted avg       0.98      0.97      0.97        38\n",
      "\n"
     ]
    }
   ],
   "source": [
    "import pandas as pd\n",
    "from sklearn.model_selection import train_test_split\n",
    "from sklearn.preprocessing import StandardScaler\n",
    "from sklearn.neural_network import MLPClassifier\n",
    "from sklearn.metrics import classification_report\n",
    "from sklearn.metrics import confusion_matrix\n",
    "df = pd.read_csv(url, names=arr)\n",
    "print(df.head())\n",
    "a = df.iloc[:, 0:4]\n",
    "b = df.select_dtypes(include=[object])\n",
    "b = df.iloc[:,4:5]\n",
    "training_a, testing_a, training_b, testing_b = train_test_split(a, b, test_size = 0.25)\n",
    "myscaler = StandardScaler()\n",
    "myscaler.fit(training_a)\n",
    "training_a = myscaler.transform(training_a)\n",
    "testing_a = myscaler.transform(testing_a)\n",
    "m1 = MLPClassifier(hidden_layer_sizes=(12, 13, 14), activation='relu', solver='adam', max_iter=2500)\n",
    "m1.fit(training_a, training_b.values.ravel())\n",
    "predicted_values = m1.predict(testing_a)\n",
    "print(confusion_matrix(testing_b,predicted_values))\n",
    "print(classification_report(testing_b,predicted_values))"
   ]
  }
 ],
 "metadata": {
  "kernelspec": {
   "display_name": "Python 3",
   "language": "python",
   "name": "python3"
  },
  "language_info": {
   "codemirror_mode": {
    "name": "ipython",
    "version": 3
   },
   "file_extension": ".py",
   "mimetype": "text/x-python",
   "name": "python",
   "nbconvert_exporter": "python",
   "pygments_lexer": "ipython3",
   "version": "3.9.9"
  }
 },
 "nbformat": 4,
 "nbformat_minor": 2
}
